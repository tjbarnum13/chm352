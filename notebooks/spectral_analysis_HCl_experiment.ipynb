{
  "nbformat": 4,
  "nbformat_minor": 0,
  "metadata": {
    "colab": {
      "name": "spectral_analysis",
      "provenance": [],
      "authorship_tag": "ABX9TyOzuKirKhrI3dHiugDF/KFz"
    },
    "kernelspec": {
      "name": "python3",
      "display_name": "Python 3"
    },
    "language_info": {
      "name": "python"
    }
  },
  "cells": [
    {
      "cell_type": "markdown",
      "source": [
        "Set up analysis environment"
      ],
      "metadata": {
        "id": "X7JxVgVqJfFs"
      }
    },
    {
      "cell_type": "code",
      "execution_count": null,
      "metadata": {
        "id": "208XaWSLGXuJ"
      },
      "outputs": [],
      "source": [
        "### Import useful packages for plotting and data analysis ###\n",
        "from matplotlib import pyplot as plt\n",
        "import plotly.graph_objects as go\n",
        "import plotly.express as px\n",
        "import scipy.signal\n",
        "import scipy.optimize\n",
        "import numpy as np"
      ]
    },
    {
      "cell_type": "code",
      "source": [
        "### Define some constants (note units!) ###\n",
        "h = 6.626e-34 # Js\n",
        "c = 2.9979e10 # cm/s\n",
        "amu =  1.66053906660e-27 # kg\n",
        "### Define the reduced mass of your molecule here ###"
      ],
      "metadata": {
        "id": "zOL1EsTl-I6I"
      },
      "execution_count": null,
      "outputs": []
    },
    {
      "cell_type": "markdown",
      "source": [
        "Import and manipulate data for analysis"
      ],
      "metadata": {
        "id": "Z2B8Q4GPL14Q"
      }
    },
    {
      "cell_type": "code",
      "source": [
        "### Import the data files to analyze ###\n",
        "from google.colab import files\n",
        "uploaded=files.upload()"
      ],
      "metadata": {
        "id": "Wl7yVjdiIHXG"
      },
      "execution_count": null,
      "outputs": []
    },
    {
      "cell_type": "code",
      "source": [
        "### Extract data from files and place in a Numpy array, transpose for easier access ###\n",
        "xdata, ydata = np.genfromtxt(\"\",delimiter=',',unpack=True)"
      ],
      "metadata": {
        "id": "KHwTWkIBl0Sh"
      },
      "execution_count": null,
      "outputs": []
    },
    {
      "cell_type": "code",
      "source": [
        "### Extract only the spectral region of interest and place frequency and intensity data in separate arrays ###\n",
        "idx=[i for i,v in enumerate(xdata) if v>400 and v < 4000]\n",
        "freq=xdata[idx]\n",
        "spec=ydata[idx]"
      ],
      "metadata": {
        "id": "Zwb-Spz-mhXU"
      },
      "execution_count": null,
      "outputs": []
    },
    {
      "cell_type": "markdown",
      "source": [
        "Find peaks and examine spectrum to manually add or delete peaks"
      ],
      "metadata": {
        "id": "F4JTsCyYL7qI"
      }
    },
    {
      "cell_type": "code",
      "source": [
        "### Use Scipy's signal processing package to find peaks in the spectrum automatically ###\n",
        "pkidx, _ = scipy.signal.find_peaks(spec)\n",
        "X=[freq[i] for i in pkidx]\n",
        "Y=[spec[i] for i in pkidx]"
      ],
      "metadata": {
        "id": "i_Ehx-Q7opV2"
      },
      "execution_count": null,
      "outputs": []
    },
    {
      "cell_type": "code",
      "source": [
        "### This interactive plot uses Plotly rather than Matplotlib in order to give\n",
        "### interactivity in Google Colab. It can be very helpful for checking the automatic\n",
        "### peak finding routine and for adding additional peaks\n",
        "\n",
        "fig=px.line(x=freq,y=spec,labels={\"x\":\"Wavenumber (cm-1)\",\"y\":\"Signal\"})\n",
        "fig.add_trace(go.Scatter(x=X,y=Y,mode=\"markers\",name=\"Peaks\",line=dict(color=\"black\")))\n",
        "fig.update_layout(showlegend=False)\n",
        "fig.show()"
      ],
      "metadata": {
        "id": "Uwu4pA5Spio5",
        "collapsed": true
      },
      "execution_count": null,
      "outputs": []
    },
    {
      "cell_type": "code",
      "source": [
        "### If you need to delete any \"bad\" peak identifications from your list, ###\n",
        "### you may want to use the function np.delete(x,i) where x is the list of ###\n",
        "### peak wavenumbers and i is the index of the peak you want to remove ###"
      ],
      "metadata": {
        "id": "0GBUfQtdjQbb"
      },
      "execution_count": null,
      "outputs": []
    },
    {
      "cell_type": "markdown",
      "source": [
        "Fit peak locations to your spectroscopic model!"
      ],
      "metadata": {
        "id": "IOJQBe9oMBlg"
      }
    },
    {
      "cell_type": "code",
      "source": [
        "### Define the fake quantum number m so we can analyze P and R branches together ###\n",
        "### Note that m = -J for P branch and m = J+1 for R branch, set this array up based on number of P and R lines ###\n",
        "\n",
        "numP=1 # number of P lines\n",
        "numR=1 # number of R lines\n",
        "\n",
        "m=np.concatenate((np.add(-1,-np.flip(np.arange(numP))),np.add(1,np.arange(numR))))"
      ],
      "metadata": {
        "id": "CY7Dr2tjijth"
      },
      "execution_count": null,
      "outputs": []
    },
    {
      "cell_type": "code",
      "source": [
        "### Define our fit function and use Scipy's optimize package to fit ###"
      ],
      "metadata": {
        "id": "Mz1ROyLbj4xJ"
      },
      "execution_count": null,
      "outputs": []
    },
    {
      "cell_type": "code",
      "source": [
        "### Plot peak locations vs m along with our fit ###"
      ],
      "metadata": {
        "id": "QzoxnD30j5uQ"
      },
      "execution_count": null,
      "outputs": []
    },
    {
      "cell_type": "code",
      "source": [
        "### Look at the fit parameters and uncertainties (standard deviations) ###"
      ],
      "metadata": {
        "id": "Lmyy6DJlj7rw"
      },
      "execution_count": null,
      "outputs": []
    },
    {
      "cell_type": "code",
      "source": [
        "### Calculate the equilibrium bond distance from our fitted rotational constant ###"
      ],
      "metadata": {
        "id": "TmftkWC0j-wZ"
      },
      "execution_count": null,
      "outputs": []
    },
    {
      "cell_type": "markdown",
      "source": [
        "Fit the band origins for several vibrational levels"
      ],
      "metadata": {
        "id": "N8uwlfT0kBJQ"
      }
    },
    {
      "cell_type": "code",
      "source": [
        "### Set up arrays of band origins and vibrational quantum numbers ###"
      ],
      "metadata": {
        "id": "wsjwZQVhkFr4"
      },
      "execution_count": null,
      "outputs": []
    },
    {
      "cell_type": "code",
      "source": [
        "### Define function and fit ###"
      ],
      "metadata": {
        "id": "bTSdx_8ukMUx"
      },
      "execution_count": null,
      "outputs": []
    },
    {
      "cell_type": "code",
      "source": [
        "### Plot of band origins vs vib quantum number and fit results ###"
      ],
      "metadata": {
        "id": "A9B6zQaykOAB"
      },
      "execution_count": null,
      "outputs": []
    },
    {
      "cell_type": "code",
      "source": [
        "### Calculate force constant from this fit ###"
      ],
      "metadata": {
        "id": "7Ak4JYe4kP0Q"
      },
      "execution_count": null,
      "outputs": []
    },
    {
      "cell_type": "code",
      "source": [
        "### Calculate the dissociation energy from this fit ###"
      ],
      "metadata": {
        "id": "Op7F2Xi_kR7Z"
      },
      "execution_count": null,
      "outputs": []
    },
    {
      "cell_type": "code",
      "source": [
        "### Calculate the experimentally observed dissociation energy, accounting for zero point energy ###"
      ],
      "metadata": {
        "id": "z1wvF752kTtZ"
      },
      "execution_count": null,
      "outputs": []
    }
  ]
}