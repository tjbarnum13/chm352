{
  "cells": [
    {
      "cell_type": "markdown",
      "metadata": {
        "id": "view-in-github",
        "colab_type": "text"
      },
      "source": [
        "<a href=\"https://colab.research.google.com/github/tjbarnum13/chm352/blob/main/PIB_hfscf_interactive.ipynb\" target=\"_parent\"><img src=\"https://colab.research.google.com/assets/colab-badge.svg\" alt=\"Open In Colab\"/></a>"
      ]
    },
    {
      "cell_type": "code",
      "execution_count": 1,
      "id": "cf3e900f",
      "metadata": {
        "id": "cf3e900f",
        "colab": {
          "base_uri": "https://localhost:8080/"
        },
        "outputId": "460779e1-6683-43c3-b5a2-5fbca841d7a7"
      },
      "outputs": [
        {
          "output_type": "stream",
          "name": "stdout",
          "text": [
            "fatal: destination path 'Fourier-DVR-1D' already exists and is not an empty directory.\n"
          ]
        }
      ],
      "source": [
        "import sys\n",
        "import numpy as np\n",
        "import matplotlib.pyplot as plt\n",
        "import ipywidgets as widgets\n",
        "\n",
        "# for local installation\n",
        "# sys.path.append(\"../\") # go to parent dir if running notebook directly in sub-folder\n",
        "\n",
        "# for Google Colab\n",
        "!git clone http://github.com/tjbarnum13/Fourier-DVR-1D.git\n",
        "sys.path.insert(0,'/content/Fourier-DVR-1D')\n",
        "from fourier_DVR_1D import Domain_Fourier_DVR_1D"
      ]
    },
    {
      "cell_type": "code",
      "execution_count": 2,
      "id": "adc1c680",
      "metadata": {
        "id": "adc1c680"
      },
      "outputs": [],
      "source": [
        "# settings\n",
        "m = 1.0 # particle mass\n",
        "n_DVR = 300 # number of DVR grid points\n",
        "n_g = 1001 # number of grid points for plotting\n",
        "n_plot = 5 # number of eigenstates to plot\n",
        "scale = 1.0 # used to adjust size of wavefunctions on plot\n",
        "\n",
        "pib_length = 1 # box size\n",
        "well_depth = 1e7 # depth of the finite well\n",
        "pib_lowerlimit=-pib_length/2\n",
        "pib_upperlimit=pib_length/2\n",
        "x_min = 2*pib_lowerlimit\n",
        "x_max = 2*pib_upperlimit\n",
        "\n",
        "# set up grid of points for the two particles\n",
        "x1 = np.linspace(x_min,x_max,n_g)\n",
        "x2 = np.linspace(x_min,x_max,n_g)\n",
        "domain = Domain_Fourier_DVR_1D(x_min, x_max, n_DVR)\n"
      ]
    },
    {
      "cell_type": "code",
      "execution_count": 7,
      "id": "ff27a46f",
      "metadata": {
        "id": "ff27a46f"
      },
      "outputs": [],
      "source": [
        "def run(n1, n2, a, cutoff):\n",
        "\n",
        "  # inital wave function guesses are just the particle in a box!\n",
        "  def psi_initial(x,n):\n",
        "    if n%2 == 0:\n",
        "      y = np.piecewise(\n",
        "            x,\n",
        "            [x < pib_lowerlimit, (x >= pib_lowerlimit) & (x <= pib_upperlimit), x > pib_upperlimit],\n",
        "            [0, lambda x: np.sqrt(2/pib_length)*np.sin(n*np.pi/pib_length*x), 0],\n",
        "        )\n",
        "    else:\n",
        "        y = np.piecewise(\n",
        "          x,\n",
        "          [x < pib_lowerlimit, (x >= pib_lowerlimit) & (x <= pib_upperlimit), x > pib_upperlimit],\n",
        "          [0, lambda x: np.sqrt(2/pib_length)*np.cos(n*np.pi/pib_length*x), 0],\n",
        "        )\n",
        "    return y\n",
        "\n",
        "  # interaction potential between the two particles\n",
        "  def Vint(x1,x2):\n",
        "    mg = np.meshgrid(x1,x2)\n",
        "\n",
        "    ### Gaussian interaction\n",
        "    # C=30\n",
        "    # b=0.04\n",
        "    # y = C*np.exp(-(mg[0]-mg[1])**2/b)\n",
        "\n",
        "    ### \"soft\" Coulomb interaction\n",
        "    # a is the \"strength\" of the interaction #\n",
        "    y = 1/(np.abs(mg[0]-mg[1])+a)\n",
        "\n",
        "    return y\n",
        "\n",
        "  # unperturbed potential (Particle in a Box)\n",
        "  def Vpot(x):\n",
        "      y = np.piecewise(\n",
        "          x,\n",
        "          [x < pib_lowerlimit, (x >= pib_lowerlimit) & (x <= pib_upperlimit), x > pib_upperlimit],\n",
        "          [well_depth, 0, well_depth],\n",
        "      )\n",
        "      return y\n",
        "\n",
        "  # total potential seen by particle 1\n",
        "  def V1(x1,x2):\n",
        "      y1 = Vpot(x1)\n",
        "      y2 = np.trapz(Vint(x1,x2)*psi2**2,x2,dx=2)\n",
        "      y = y1 + y2\n",
        "      return y\n",
        "\n",
        "  # total potential seen by particle 2\n",
        "  def V2(x1,x2):\n",
        "      y1 = Vpot(x2)\n",
        "      y2 = np.trapz(Vint(x1,x2)*psi1**2,x1,dx=1)\n",
        "      y = y1 + y2\n",
        "      return y\n",
        "\n",
        "  # inital guesses for the wave functions\n",
        "  psi2 = psi_initial(x2,n2)\n",
        "  psi1 = psi_initial(x1,n1)\n",
        "\n",
        "  # vectors to save old potentials for deciding when to stop the SCF procedure\n",
        "  V1_old = np.zeros(len(V1(x1,x2)))\n",
        "  V2_old = np.zeros(len(V2(x1,x2)))\n",
        "\n",
        "  #cutoff = 1e-3 # agreement required between current potential and potential from previous iteration to stop SCF\n",
        "  numiter = 0 # counter\n",
        "\n",
        "  # the self consistent field loop\n",
        "  while (np.sum(np.abs(V1(x1,x2)-V1_old)) > cutoff) and (np.sum(np.abs(V2(x1,x2)-V2_old)) > cutoff):\n",
        "    numiter+=1\n",
        "    # save old potentials for comparison\n",
        "    V1_old = V1(x1,x2)\n",
        "    V2_old = V2(x1,x2)\n",
        "\n",
        "    # define potential\n",
        "    def V(x):\n",
        "      y = np.interp(x, x2, V2(x1,x2))\n",
        "      return y\n",
        "\n",
        "    # numerically solve for energies and wave functions of particle 2\n",
        "    E, E_four = domain.solve(m, V)\n",
        "    psi = domain.grid(x2, E_four[:,:n_plot])\n",
        "    psi2 = psi[n2-1,:]\n",
        "\n",
        "    # define new potential\n",
        "    def V(x):\n",
        "      y = np.interp(x, x1, V1(x1,x2))\n",
        "      return y\n",
        "\n",
        "    # numerically solve for energies and wave functions of particle 1\n",
        "    E, E_four = domain.solve(m, V)\n",
        "    psi = domain.grid(x1, E_four[:,:n_plot])\n",
        "    psi1 = psi[n1-1,:]\n",
        "\n",
        "    # print error between current potential and old potential\n",
        "    print(\"Iteration %(numiter)d. Potential energy error: %(error)f\" % {\"numiter\":numiter, \"error\":np.sum(np.abs(V1(x1,x2)-V1_old))})\n",
        "\n",
        "  # plot initial and final probabilities\n",
        "  fig = plt.figure()\n",
        "  plt.xlabel('x (L)')\n",
        "  plt.ylabel(r'$\\psi^2$')\n",
        "  plt.legend([r'$\\psi_1$',r'$\\psi_1$(initial)',r'$\\psi_2$',r'$\\psi_2$(inital)'])\n",
        "  plt.plot(x1,psi1.flatten()**2,'-k')\n",
        "  plt.plot(x1,psi_initial(x1,n1)**2,'--k')\n",
        "  plt.plot(x2,psi2.flatten()**2,'-r')\n",
        "  plt.plot(x2,psi_initial(x2,n2)**2,'--r')\n",
        "  plt.show()"
      ]
    },
    {
      "cell_type": "code",
      "source": [
        "cu = False # turn off continous update for smoother operation\n",
        "style = {'description_width': 'initial'}\n",
        "\n",
        "# # set up all the sliders to change variables\n",
        "n1 = widgets.IntSlider(min=1, max=5, step=1, description='n1',continuous_update=cu)\n",
        "n2 = widgets.IntSlider(min=1, max=5, step=1, description='n2',continuous_update=cu)\n",
        "a=widgets.Dropdown(options=[('Very Weak', 10), ('Weak', 0.1), ('Medium',0.01), ('Strong',0.001), ('Very strong', 0.0001)],description='Interaction Strength',value=0.1,style=style,continuous_update=cu)\n",
        "cutoff = widgets.Dropdown(options=[('Tight', 0.0001), ('Medium',0.1), ('Loose',100)],description='Self-Consistency Cutoff',value=0.1,style=style,continuous_update=cu)\n",
        "\n",
        "# define the output and arrange sliders and plot\n",
        "out = widgets.interactive_output(run,{'n1':n1,'n2':n2, 'a':a, 'cutoff':cutoff})\n",
        "controls = widgets.HBox([n1, n2, a, cutoff])\n",
        "display(widgets.VBox([controls, out]))"
      ],
      "metadata": {
        "colab": {
          "base_uri": "https://localhost:8080/",
          "height": 811,
          "referenced_widgets": [
            "52dc38058d19489aaa265aaccf8eb928",
            "c8a64250de4e431c9ae9b906cea8ba88",
            "850a3e7596134c08910cdc633d001957",
            "bcf48c4a0d6b44a8a99e6510ff3ed73d",
            "a1ff61fe7e1845d3ac86ee42a54e94f8",
            "9d676e2fc8694cfda798b2f2ad9afeca",
            "8f40e62e45bf42f4923dabdd6e348be9",
            "b9ec4416cd7641fa9489cc9ee9072d68",
            "58a1fa3bb218408f8fddb95c5d310523",
            "ebd9a106ef9d4e8b8b70e07f618dcde4",
            "4df45b0ce28341389350aaee6562184d",
            "63a0dbbee1fa4f3db4ba98bf6e0f86ed",
            "2b9923ebf99f48ebbc9d8b27ca2fc0c3",
            "353b5cdc5c8b491b9ffb360b94bc1447",
            "80be0cef78a54debbe7eb58fad04b5dd",
            "b6296e44c2ef40848d50be15f6479ff2",
            "d277591a237c4633ba98d69a5eb78440",
            "9d9147061ab74876a525e1247df309d1"
          ]
        },
        "id": "5lQggjF9RuQc",
        "outputId": "552450f6-a2ff-49f9-e89e-171ce4c73ca0"
      },
      "id": "5lQggjF9RuQc",
      "execution_count": 15,
      "outputs": [
        {
          "output_type": "display_data",
          "data": {
            "text/plain": [
              "VBox(children=(HBox(children=(IntSlider(value=1, continuous_update=False, description='n1', max=5, min=1), Int…"
            ],
            "application/vnd.jupyter.widget-view+json": {
              "version_major": 2,
              "version_minor": 0,
              "model_id": "52dc38058d19489aaa265aaccf8eb928"
            }
          },
          "metadata": {}
        }
      ]
    }
  ],
  "metadata": {
    "kernelspec": {
      "display_name": "Python 3",
      "language": "python",
      "name": "python3"
    },
    "language_info": {
      "codemirror_mode": {
        "name": "ipython",
        "version": 3
      },
      "file_extension": ".py",
      "mimetype": "text/x-python",
      "name": "python",
      "nbconvert_exporter": "python",
      "pygments_lexer": "ipython3",
      "version": "3.8.8"
    },
    "colab": {
      "provenance": [],
      "include_colab_link": true
    },
    "widgets": {
      "application/vnd.jupyter.widget-state+json": {
        "52dc38058d19489aaa265aaccf8eb928": {
          "model_module": "@jupyter-widgets/controls",
          "model_name": "VBoxModel",
          "model_module_version": "1.5.0",
          "state": {
            "_dom_classes": [],
            "_model_module": "@jupyter-widgets/controls",
            "_model_module_version": "1.5.0",
            "_model_name": "VBoxModel",
            "_view_count": null,
            "_view_module": "@jupyter-widgets/controls",
            "_view_module_version": "1.5.0",
            "_view_name": "VBoxView",
            "box_style": "",
            "children": [
              "IPY_MODEL_c8a64250de4e431c9ae9b906cea8ba88",
              "IPY_MODEL_850a3e7596134c08910cdc633d001957"
            ],
            "layout": "IPY_MODEL_bcf48c4a0d6b44a8a99e6510ff3ed73d"
          }
        },
        "c8a64250de4e431c9ae9b906cea8ba88": {
          "model_module": "@jupyter-widgets/controls",
          "model_name": "HBoxModel",
          "model_module_version": "1.5.0",
          "state": {
            "_dom_classes": [],
            "_model_module": "@jupyter-widgets/controls",
            "_model_module_version": "1.5.0",
            "_model_name": "HBoxModel",
            "_view_count": null,
            "_view_module": "@jupyter-widgets/controls",
            "_view_module_version": "1.5.0",
            "_view_name": "HBoxView",
            "box_style": "",
            "children": [
              "IPY_MODEL_a1ff61fe7e1845d3ac86ee42a54e94f8",
              "IPY_MODEL_9d676e2fc8694cfda798b2f2ad9afeca",
              "IPY_MODEL_8f40e62e45bf42f4923dabdd6e348be9",
              "IPY_MODEL_b9ec4416cd7641fa9489cc9ee9072d68"
            ],
            "layout": "IPY_MODEL_58a1fa3bb218408f8fddb95c5d310523"
          }
        },
        "850a3e7596134c08910cdc633d001957": {
          "model_module": "@jupyter-widgets/output",
          "model_name": "OutputModel",
          "model_module_version": "1.0.0",
          "state": {
            "_dom_classes": [],
            "_model_module": "@jupyter-widgets/output",
            "_model_module_version": "1.0.0",
            "_model_name": "OutputModel",
            "_view_count": null,
            "_view_module": "@jupyter-widgets/output",
            "_view_module_version": "1.0.0",
            "_view_name": "OutputView",
            "layout": "IPY_MODEL_9d9147061ab74876a525e1247df309d1",
            "msg_id": "",
            "outputs": [
              {
                "output_type": "stream",
                "name": "stdout",
                "text": [
                  "Iteration 1. Potential energy error: 11028.522768\n"
                ]
              },
              {
                "output_type": "stream",
                "name": "stdout",
                "text": [
                  "Iteration 2. Potential energy error: 3213.869287\n"
                ]
              },
              {
                "output_type": "stream",
                "name": "stdout",
                "text": [
                  "Iteration 3. Potential energy error: 492.283548\n"
                ]
              },
              {
                "output_type": "stream",
                "name": "stdout",
                "text": [
                  "Iteration 4. Potential energy error: 47.532054\n"
                ]
              },
              {
                "output_type": "stream",
                "name": "stdout",
                "text": [
                  "Iteration 5. Potential energy error: 9.622359\n"
                ]
              },
              {
                "output_type": "stream",
                "name": "stdout",
                "text": [
                  "Iteration 6. Potential energy error: 253.201726\n"
                ]
              },
              {
                "output_type": "stream",
                "name": "stdout",
                "text": [
                  "Iteration 7. Potential energy error: 6713.707432\n"
                ]
              },
              {
                "output_type": "stream",
                "name": "stdout",
                "text": [
                  "Iteration 8. Potential energy error: 7883.105274\n"
                ]
              },
              {
                "output_type": "stream",
                "name": "stdout",
                "text": [
                  "Iteration 9. Potential energy error: 4611.386380\n"
                ]
              },
              {
                "output_type": "stream",
                "name": "stdout",
                "text": [
                  "Iteration 10. Potential energy error: 1515.318980\n"
                ]
              },
              {
                "output_type": "stream",
                "name": "stdout",
                "text": [
                  "Iteration 11. Potential energy error: 491.492087\n"
                ]
              },
              {
                "output_type": "stream",
                "name": "stdout",
                "text": [
                  "Iteration 12. Potential energy error: 162.978766\n"
                ]
              },
              {
                "output_type": "stream",
                "name": "stdout",
                "text": [
                  "Iteration 13. Potential energy error: 54.527043\n"
                ]
              },
              {
                "output_type": "stream",
                "name": "stdout",
                "text": [
                  "Iteration 14. Potential energy error: 18.297576\n"
                ]
              },
              {
                "output_type": "stream",
                "name": "stdout",
                "text": [
                  "Iteration 15. Potential energy error: 6.146306\n"
                ]
              },
              {
                "output_type": "stream",
                "name": "stdout",
                "text": [
                  "Iteration 16. Potential energy error: 2.065304\n"
                ]
              },
              {
                "output_type": "stream",
                "name": "stdout",
                "text": [
                  "Iteration 17. Potential energy error: 0.694071\n"
                ]
              },
              {
                "output_type": "stream",
                "name": "stdout",
                "text": [
                  "Iteration 18. Potential energy error: 0.233260\n"
                ]
              },
              {
                "output_type": "stream",
                "name": "stdout",
                "text": [
                  "Iteration 19. Potential energy error: 0.078394\n"
                ]
              },
              {
                "output_type": "display_data",
                "data": {
                  "text/plain": "<Figure size 640x480 with 1 Axes>",
                  "image/png": "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\n"
                },
                "metadata": {}
              }
            ]
          }
        },
        "bcf48c4a0d6b44a8a99e6510ff3ed73d": {
          "model_module": "@jupyter-widgets/base",
          "model_name": "LayoutModel",
          "model_module_version": "1.2.0",
          "state": {
            "_model_module": "@jupyter-widgets/base",
            "_model_module_version": "1.2.0",
            "_model_name": "LayoutModel",
            "_view_count": null,
            "_view_module": "@jupyter-widgets/base",
            "_view_module_version": "1.2.0",
            "_view_name": "LayoutView",
            "align_content": null,
            "align_items": null,
            "align_self": null,
            "border": null,
            "bottom": null,
            "display": null,
            "flex": null,
            "flex_flow": null,
            "grid_area": null,
            "grid_auto_columns": null,
            "grid_auto_flow": null,
            "grid_auto_rows": null,
            "grid_column": null,
            "grid_gap": null,
            "grid_row": null,
            "grid_template_areas": null,
            "grid_template_columns": null,
            "grid_template_rows": null,
            "height": null,
            "justify_content": null,
            "justify_items": null,
            "left": null,
            "margin": null,
            "max_height": null,
            "max_width": null,
            "min_height": null,
            "min_width": null,
            "object_fit": null,
            "object_position": null,
            "order": null,
            "overflow": null,
            "overflow_x": null,
            "overflow_y": null,
            "padding": null,
            "right": null,
            "top": null,
            "visibility": null,
            "width": null
          }
        },
        "a1ff61fe7e1845d3ac86ee42a54e94f8": {
          "model_module": "@jupyter-widgets/controls",
          "model_name": "IntSliderModel",
          "model_module_version": "1.5.0",
          "state": {
            "_dom_classes": [],
            "_model_module": "@jupyter-widgets/controls",
            "_model_module_version": "1.5.0",
            "_model_name": "IntSliderModel",
            "_view_count": null,
            "_view_module": "@jupyter-widgets/controls",
            "_view_module_version": "1.5.0",
            "_view_name": "IntSliderView",
            "continuous_update": false,
            "description": "n1",
            "description_tooltip": null,
            "disabled": false,
            "layout": "IPY_MODEL_ebd9a106ef9d4e8b8b70e07f618dcde4",
            "max": 5,
            "min": 1,
            "orientation": "horizontal",
            "readout": true,
            "readout_format": "d",
            "step": 1,
            "style": "IPY_MODEL_4df45b0ce28341389350aaee6562184d",
            "value": 1
          }
        },
        "9d676e2fc8694cfda798b2f2ad9afeca": {
          "model_module": "@jupyter-widgets/controls",
          "model_name": "IntSliderModel",
          "model_module_version": "1.5.0",
          "state": {
            "_dom_classes": [],
            "_model_module": "@jupyter-widgets/controls",
            "_model_module_version": "1.5.0",
            "_model_name": "IntSliderModel",
            "_view_count": null,
            "_view_module": "@jupyter-widgets/controls",
            "_view_module_version": "1.5.0",
            "_view_name": "IntSliderView",
            "continuous_update": false,
            "description": "n2",
            "description_tooltip": null,
            "disabled": false,
            "layout": "IPY_MODEL_63a0dbbee1fa4f3db4ba98bf6e0f86ed",
            "max": 5,
            "min": 1,
            "orientation": "horizontal",
            "readout": true,
            "readout_format": "d",
            "step": 1,
            "style": "IPY_MODEL_2b9923ebf99f48ebbc9d8b27ca2fc0c3",
            "value": 1
          }
        },
        "8f40e62e45bf42f4923dabdd6e348be9": {
          "model_module": "@jupyter-widgets/controls",
          "model_name": "DropdownModel",
          "model_module_version": "1.5.0",
          "state": {
            "_dom_classes": [],
            "_model_module": "@jupyter-widgets/controls",
            "_model_module_version": "1.5.0",
            "_model_name": "DropdownModel",
            "_options_labels": [
              "Very Weak",
              "Weak",
              "Medium",
              "Strong",
              "Very strong"
            ],
            "_view_count": null,
            "_view_module": "@jupyter-widgets/controls",
            "_view_module_version": "1.5.0",
            "_view_name": "DropdownView",
            "description": "Interaction Strength",
            "description_tooltip": null,
            "disabled": false,
            "index": 4,
            "layout": "IPY_MODEL_353b5cdc5c8b491b9ffb360b94bc1447",
            "style": "IPY_MODEL_80be0cef78a54debbe7eb58fad04b5dd"
          }
        },
        "b9ec4416cd7641fa9489cc9ee9072d68": {
          "model_module": "@jupyter-widgets/controls",
          "model_name": "DropdownModel",
          "model_module_version": "1.5.0",
          "state": {
            "_dom_classes": [],
            "_model_module": "@jupyter-widgets/controls",
            "_model_module_version": "1.5.0",
            "_model_name": "DropdownModel",
            "_options_labels": [
              "Tight",
              "Medium",
              "Loose"
            ],
            "_view_count": null,
            "_view_module": "@jupyter-widgets/controls",
            "_view_module_version": "1.5.0",
            "_view_name": "DropdownView",
            "description": "Self-Consistency Cutoff",
            "description_tooltip": null,
            "disabled": false,
            "index": 1,
            "layout": "IPY_MODEL_b6296e44c2ef40848d50be15f6479ff2",
            "style": "IPY_MODEL_d277591a237c4633ba98d69a5eb78440"
          }
        },
        "58a1fa3bb218408f8fddb95c5d310523": {
          "model_module": "@jupyter-widgets/base",
          "model_name": "LayoutModel",
          "model_module_version": "1.2.0",
          "state": {
            "_model_module": "@jupyter-widgets/base",
            "_model_module_version": "1.2.0",
            "_model_name": "LayoutModel",
            "_view_count": null,
            "_view_module": "@jupyter-widgets/base",
            "_view_module_version": "1.2.0",
            "_view_name": "LayoutView",
            "align_content": null,
            "align_items": null,
            "align_self": null,
            "border": null,
            "bottom": null,
            "display": null,
            "flex": null,
            "flex_flow": null,
            "grid_area": null,
            "grid_auto_columns": null,
            "grid_auto_flow": null,
            "grid_auto_rows": null,
            "grid_column": null,
            "grid_gap": null,
            "grid_row": null,
            "grid_template_areas": null,
            "grid_template_columns": null,
            "grid_template_rows": null,
            "height": null,
            "justify_content": null,
            "justify_items": null,
            "left": null,
            "margin": null,
            "max_height": null,
            "max_width": null,
            "min_height": null,
            "min_width": null,
            "object_fit": null,
            "object_position": null,
            "order": null,
            "overflow": null,
            "overflow_x": null,
            "overflow_y": null,
            "padding": null,
            "right": null,
            "top": null,
            "visibility": null,
            "width": null
          }
        },
        "ebd9a106ef9d4e8b8b70e07f618dcde4": {
          "model_module": "@jupyter-widgets/base",
          "model_name": "LayoutModel",
          "model_module_version": "1.2.0",
          "state": {
            "_model_module": "@jupyter-widgets/base",
            "_model_module_version": "1.2.0",
            "_model_name": "LayoutModel",
            "_view_count": null,
            "_view_module": "@jupyter-widgets/base",
            "_view_module_version": "1.2.0",
            "_view_name": "LayoutView",
            "align_content": null,
            "align_items": null,
            "align_self": null,
            "border": null,
            "bottom": null,
            "display": null,
            "flex": null,
            "flex_flow": null,
            "grid_area": null,
            "grid_auto_columns": null,
            "grid_auto_flow": null,
            "grid_auto_rows": null,
            "grid_column": null,
            "grid_gap": null,
            "grid_row": null,
            "grid_template_areas": null,
            "grid_template_columns": null,
            "grid_template_rows": null,
            "height": null,
            "justify_content": null,
            "justify_items": null,
            "left": null,
            "margin": null,
            "max_height": null,
            "max_width": null,
            "min_height": null,
            "min_width": null,
            "object_fit": null,
            "object_position": null,
            "order": null,
            "overflow": null,
            "overflow_x": null,
            "overflow_y": null,
            "padding": null,
            "right": null,
            "top": null,
            "visibility": null,
            "width": null
          }
        },
        "4df45b0ce28341389350aaee6562184d": {
          "model_module": "@jupyter-widgets/controls",
          "model_name": "SliderStyleModel",
          "model_module_version": "1.5.0",
          "state": {
            "_model_module": "@jupyter-widgets/controls",
            "_model_module_version": "1.5.0",
            "_model_name": "SliderStyleModel",
            "_view_count": null,
            "_view_module": "@jupyter-widgets/base",
            "_view_module_version": "1.2.0",
            "_view_name": "StyleView",
            "description_width": "",
            "handle_color": null
          }
        },
        "63a0dbbee1fa4f3db4ba98bf6e0f86ed": {
          "model_module": "@jupyter-widgets/base",
          "model_name": "LayoutModel",
          "model_module_version": "1.2.0",
          "state": {
            "_model_module": "@jupyter-widgets/base",
            "_model_module_version": "1.2.0",
            "_model_name": "LayoutModel",
            "_view_count": null,
            "_view_module": "@jupyter-widgets/base",
            "_view_module_version": "1.2.0",
            "_view_name": "LayoutView",
            "align_content": null,
            "align_items": null,
            "align_self": null,
            "border": null,
            "bottom": null,
            "display": null,
            "flex": null,
            "flex_flow": null,
            "grid_area": null,
            "grid_auto_columns": null,
            "grid_auto_flow": null,
            "grid_auto_rows": null,
            "grid_column": null,
            "grid_gap": null,
            "grid_row": null,
            "grid_template_areas": null,
            "grid_template_columns": null,
            "grid_template_rows": null,
            "height": null,
            "justify_content": null,
            "justify_items": null,
            "left": null,
            "margin": null,
            "max_height": null,
            "max_width": null,
            "min_height": null,
            "min_width": null,
            "object_fit": null,
            "object_position": null,
            "order": null,
            "overflow": null,
            "overflow_x": null,
            "overflow_y": null,
            "padding": null,
            "right": null,
            "top": null,
            "visibility": null,
            "width": null
          }
        },
        "2b9923ebf99f48ebbc9d8b27ca2fc0c3": {
          "model_module": "@jupyter-widgets/controls",
          "model_name": "SliderStyleModel",
          "model_module_version": "1.5.0",
          "state": {
            "_model_module": "@jupyter-widgets/controls",
            "_model_module_version": "1.5.0",
            "_model_name": "SliderStyleModel",
            "_view_count": null,
            "_view_module": "@jupyter-widgets/base",
            "_view_module_version": "1.2.0",
            "_view_name": "StyleView",
            "description_width": "",
            "handle_color": null
          }
        },
        "353b5cdc5c8b491b9ffb360b94bc1447": {
          "model_module": "@jupyter-widgets/base",
          "model_name": "LayoutModel",
          "model_module_version": "1.2.0",
          "state": {
            "_model_module": "@jupyter-widgets/base",
            "_model_module_version": "1.2.0",
            "_model_name": "LayoutModel",
            "_view_count": null,
            "_view_module": "@jupyter-widgets/base",
            "_view_module_version": "1.2.0",
            "_view_name": "LayoutView",
            "align_content": null,
            "align_items": null,
            "align_self": null,
            "border": null,
            "bottom": null,
            "display": null,
            "flex": null,
            "flex_flow": null,
            "grid_area": null,
            "grid_auto_columns": null,
            "grid_auto_flow": null,
            "grid_auto_rows": null,
            "grid_column": null,
            "grid_gap": null,
            "grid_row": null,
            "grid_template_areas": null,
            "grid_template_columns": null,
            "grid_template_rows": null,
            "height": null,
            "justify_content": null,
            "justify_items": null,
            "left": null,
            "margin": null,
            "max_height": null,
            "max_width": null,
            "min_height": null,
            "min_width": null,
            "object_fit": null,
            "object_position": null,
            "order": null,
            "overflow": null,
            "overflow_x": null,
            "overflow_y": null,
            "padding": null,
            "right": null,
            "top": null,
            "visibility": null,
            "width": null
          }
        },
        "80be0cef78a54debbe7eb58fad04b5dd": {
          "model_module": "@jupyter-widgets/controls",
          "model_name": "DescriptionStyleModel",
          "model_module_version": "1.5.0",
          "state": {
            "_model_module": "@jupyter-widgets/controls",
            "_model_module_version": "1.5.0",
            "_model_name": "DescriptionStyleModel",
            "_view_count": null,
            "_view_module": "@jupyter-widgets/base",
            "_view_module_version": "1.2.0",
            "_view_name": "StyleView",
            "description_width": "initial"
          }
        },
        "b6296e44c2ef40848d50be15f6479ff2": {
          "model_module": "@jupyter-widgets/base",
          "model_name": "LayoutModel",
          "model_module_version": "1.2.0",
          "state": {
            "_model_module": "@jupyter-widgets/base",
            "_model_module_version": "1.2.0",
            "_model_name": "LayoutModel",
            "_view_count": null,
            "_view_module": "@jupyter-widgets/base",
            "_view_module_version": "1.2.0",
            "_view_name": "LayoutView",
            "align_content": null,
            "align_items": null,
            "align_self": null,
            "border": null,
            "bottom": null,
            "display": null,
            "flex": null,
            "flex_flow": null,
            "grid_area": null,
            "grid_auto_columns": null,
            "grid_auto_flow": null,
            "grid_auto_rows": null,
            "grid_column": null,
            "grid_gap": null,
            "grid_row": null,
            "grid_template_areas": null,
            "grid_template_columns": null,
            "grid_template_rows": null,
            "height": null,
            "justify_content": null,
            "justify_items": null,
            "left": null,
            "margin": null,
            "max_height": null,
            "max_width": null,
            "min_height": null,
            "min_width": null,
            "object_fit": null,
            "object_position": null,
            "order": null,
            "overflow": null,
            "overflow_x": null,
            "overflow_y": null,
            "padding": null,
            "right": null,
            "top": null,
            "visibility": null,
            "width": null
          }
        },
        "d277591a237c4633ba98d69a5eb78440": {
          "model_module": "@jupyter-widgets/controls",
          "model_name": "DescriptionStyleModel",
          "model_module_version": "1.5.0",
          "state": {
            "_model_module": "@jupyter-widgets/controls",
            "_model_module_version": "1.5.0",
            "_model_name": "DescriptionStyleModel",
            "_view_count": null,
            "_view_module": "@jupyter-widgets/base",
            "_view_module_version": "1.2.0",
            "_view_name": "StyleView",
            "description_width": "initial"
          }
        },
        "9d9147061ab74876a525e1247df309d1": {
          "model_module": "@jupyter-widgets/base",
          "model_name": "LayoutModel",
          "model_module_version": "1.2.0",
          "state": {
            "_model_module": "@jupyter-widgets/base",
            "_model_module_version": "1.2.0",
            "_model_name": "LayoutModel",
            "_view_count": null,
            "_view_module": "@jupyter-widgets/base",
            "_view_module_version": "1.2.0",
            "_view_name": "LayoutView",
            "align_content": null,
            "align_items": null,
            "align_self": null,
            "border": null,
            "bottom": null,
            "display": null,
            "flex": null,
            "flex_flow": null,
            "grid_area": null,
            "grid_auto_columns": null,
            "grid_auto_flow": null,
            "grid_auto_rows": null,
            "grid_column": null,
            "grid_gap": null,
            "grid_row": null,
            "grid_template_areas": null,
            "grid_template_columns": null,
            "grid_template_rows": null,
            "height": null,
            "justify_content": null,
            "justify_items": null,
            "left": null,
            "margin": null,
            "max_height": null,
            "max_width": null,
            "min_height": null,
            "min_width": null,
            "object_fit": null,
            "object_position": null,
            "order": null,
            "overflow": null,
            "overflow_x": null,
            "overflow_y": null,
            "padding": null,
            "right": null,
            "top": null,
            "visibility": null,
            "width": null
          }
        }
      }
    }
  },
  "nbformat": 4,
  "nbformat_minor": 5
}