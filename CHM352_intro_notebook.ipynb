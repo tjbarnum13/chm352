{
  "nbformat": 4,
  "nbformat_minor": 0,
  "metadata": {
    "colab": {
      "provenance": [],
      "authorship_tag": "ABX9TyN24J2xevR2K7mdSE5GqJ9i",
      "include_colab_link": true
    },
    "kernelspec": {
      "name": "python3",
      "display_name": "Python 3"
    },
    "language_info": {
      "name": "python"
    }
  },
  "cells": [
    {
      "cell_type": "markdown",
      "metadata": {
        "id": "view-in-github",
        "colab_type": "text"
      },
      "source": [
        "<a href=\"https://colab.research.google.com/github/tjbarnum13/chm352/blob/main/CHM352_intro_notebook.ipynb\" target=\"_parent\"><img src=\"https://colab.research.google.com/assets/colab-badge.svg\" alt=\"Open In Colab\"/></a>"
      ]
    },
    {
      "cell_type": "markdown",
      "source": [
        "## Getting started with Google Colaboratory\n",
        "\n",
        "## Union College CHM 352\n",
        "Adapted from materials from Wellesley College Physics Department.\n",
        "\n",
        "Original Authors: Jerome Fung (jfung2@wellesley.edu) and Lauri Wardell (lwardell@wellesley.edu).  Modifications by James Battat (jbattat@wellesley.edu), Hope Anderson (handers5), and Dagm Assefa (dassefa).\n",
        "\n",
        "These tutorials are licensed under the [Creative Commons Attribution-NonCommercial-ShareAlike 4.0 International License](https://creativecommons.org/licenses/by-nc-sa/4.0/).\n",
        "\n",
        "\n",
        "If you have an old laptop with insufficient disk space or don't want to fuss around with downloading new software, there Google Colaboratory (\"Colab\") is a great tool to get started with programming. Colab is a free tool that allows one to write and execute Python code directly in your web browser. The computation is all done remotely on servers hosted by Google.\n",
        "\n",
        "There are some disadvantages to this approach. Your local files are not accessible to Colab so files must be uploaded directly or linked to a Google Drive. Downloading files programatically is similarly involved. In addition, Colab sessions will time out automatically after a period of inactivity, requiring you to re-run previous code. Lastly, Colab does not have a full version of JupyterLab, which means certain nice features (like interactive matplotlib graphs) are not accessible.\n",
        "\n",
        "Despite these drawbacks, Colab is an extremely convenient tool and will work for everything we do in this class.\n",
        "\n",
        "Getting started is simple:\n",
        "\n",
        "1.   Navigate to https://colab.research.google.com/.\n",
        "2.   Sign in with your Google account.\n",
        "3. You will be prompted to create a New Notebook or choose an existing one from several sources.\n",
        "4. A new notebook has the title `Untitled`. Click on this and change it to something that you can identify.\n",
        "\n",
        "## Notebook Cells\n",
        "Jupyter notebooks are divided into **cells**. There are two main types:\n",
        "* **Code cells**: these are cells that allow you to write and edit Python code. Useful features include syntax highlighting and tab completion.\n",
        "* **Markdown cells**: these are cells that are not executed, but allow you to insert commentary using a very simple markup language called Markdown. This textual description is actually part of a markdown cell, and you'll also use markdown cells to comment on your work.\n",
        "\n",
        "Let's start with our first code cell in which we'll import some key packages. Importing a package allows us to use it; we'll include the following lines in pretty much every notebook we use.\n",
        "\n",
        "Click on the first empty cell in your new Jupyter notebook or hover over the space before/after any cell and choose **+ Code**. Enter the following statements (the '#' sign in Python is a comment symbol. Anything on a line following the '#' sign will not execute.)"
      ],
      "metadata": {
        "id": "WnQtuIpRJe2w"
      }
    },
    {
      "cell_type": "code",
      "execution_count": null,
      "metadata": {
        "id": "IW2VSXN5Hn3V"
      },
      "outputs": [],
      "source": [
        "# numpy is the main Python library for math and array functions\n",
        "import numpy as np # \"as np\" allows us to use the abbreviation np for convenience\n",
        "\n",
        "# we use matplotlib for plotting graphs\n",
        "import matplotlib.pyplot as plt"
      ]
    },
    {
      "cell_type": "markdown",
      "source": [
        "In Google Colab, you can run the cell by:\n",
        "\n",
        "* Go to the \"Runtime\" menu and select \"Run the focused cell.\"\n",
        "* Press `Ctrl - Enter`."
      ],
      "metadata": {
        "id": "xAibPWkPONR0"
      }
    },
    {
      "cell_type": "markdown",
      "source": [
        "## Using the notebook as a calculator\n",
        "\n",
        "You'll frequently find yourself needing to do arithmetic, and the Jupyter notebook can be a nice tool for this. See some of the examples below."
      ],
      "metadata": {
        "id": "_GivWg7hOX2X"
      }
    },
    {
      "cell_type": "code",
      "source": [
        "3+4"
      ],
      "metadata": {
        "id": "qP8wbnhJOXRR"
      },
      "execution_count": null,
      "outputs": []
    },
    {
      "cell_type": "code",
      "source": [
        "2/3"
      ],
      "metadata": {
        "id": "DDWnfJLYONAb"
      },
      "execution_count": null,
      "outputs": []
    },
    {
      "cell_type": "code",
      "source": [
        "1+2\n",
        "3-4"
      ],
      "metadata": {
        "id": "CdqdWt5zOcRK"
      },
      "execution_count": null,
      "outputs": []
    },
    {
      "cell_type": "markdown",
      "source": [
        "Notice that the output of a given code cell shows only the most recent output. Using the `print` function gets around this."
      ],
      "metadata": {
        "id": "m_Q3jl7DOd0a"
      }
    },
    {
      "cell_type": "code",
      "source": [
        "print(1+2)\n",
        "print(3-4)\n",
        "print(7**2)"
      ],
      "metadata": {
        "id": "wp5VN-AROkmI"
      },
      "execution_count": null,
      "outputs": []
    },
    {
      "cell_type": "markdown",
      "source": [
        "The `numpy` library includes a huge range of useful mathematical functions. Some of these are illustrated below. Lots more can be found in the very extensive [numpy documentation](http://docs.scipy.org/doc/numpy/); the documentation for the mathematical functions can be found [here](http://docs.scipy.org/doc/numpy/reference/routines.math.html)."
      ],
      "metadata": {
        "id": "6zmr33ikOoWm"
      }
    },
    {
      "cell_type": "code",
      "source": [
        "print(np.cos(np.pi))\n",
        "print(np.sqrt(1.44))\n",
        "print(np.exp(-2))"
      ],
      "metadata": {
        "id": "dmniZRrjOuZp"
      },
      "execution_count": null,
      "outputs": []
    },
    {
      "cell_type": "markdown",
      "source": [
        "***Exercise 1***\n",
        "\n",
        "Using Jupyter as a calculator and the `numpy` mathematical functions, evaluate the expression\n",
        "\n",
        "$$\\frac{1}{2\\sqrt{\\pi}} \\cdot \\sin^{-1}(1)$$"
      ],
      "metadata": {
        "id": "Q_Fvb2KYO1ee"
      }
    },
    {
      "cell_type": "markdown",
      "source": [
        "## NumPy Arrays\n",
        "\n",
        "Data structures that consist of an ordered arrangement of numerical values can be useful in many contexts. Here are just a few examples:\n",
        "\n",
        "You're plotting the spectrum of a new molecule and want to keep the absorbance value matched with the correct wavelength.\n",
        "You're calculating the concentration of a species as a complicated chemical reaction proceeds and want to know the concentration at specific times along the way.\n",
        "Python has a built-in list object that can hold a collection of objects. For example:"
      ],
      "metadata": {
        "id": "Ogv3k9arO-O_"
      }
    },
    {
      "cell_type": "code",
      "source": [
        "myList = [\"dog\", \"cat\", 10, 5.9]\n",
        "print(myList)"
      ],
      "metadata": {
        "id": "F2H2Ol3IPE79"
      },
      "execution_count": null,
      "outputs": []
    },
    {
      "cell_type": "markdown",
      "source": [
        "Let's imagine that we have a list of data and we would like to make a calculation with it. For concreteness, our data will be voltages, and we'd like to multiply each voltage by two. You might be tempted to multiply the list by two:"
      ],
      "metadata": {
        "id": "TSUBByQIPMAP"
      }
    },
    {
      "cell_type": "code",
      "source": [
        "times = [0, 0.25, 0.5, 0.75]\n",
        "times2 = times * 2\n",
        "print(times2)"
      ],
      "metadata": {
        "id": "H5w-5O55PNFe"
      },
      "execution_count": null,
      "outputs": []
    },
    {
      "cell_type": "markdown",
      "source": [
        "That's not what we wanted! In Python, if you \"multiply\" the list by two, it just appends a copy of the list to itself, rather than multiplying each element of the list by two. In hindsight, this makes sense since the list could also contains strings (words) like \"dog\" and \"cat\", so python can't really multiply \"dog\" by two...\n",
        "\n",
        "So what should we do then? Well, there are some work-arounds using Python lists, but it's much better to use a Python package called NumPy, which handles array-based calculations more efficiently. In particular, the numpy `array` object has a number of features that make it preferable for most computational work.\n",
        "\n",
        "Let's begin by creating an array. In the next code cell, I *assign* the variable `wendy` to a *1-dimensional* array that I create \"by hand.\""
      ],
      "metadata": {
        "id": "qxZ8OxqQPP1v"
      }
    },
    {
      "cell_type": "code",
      "source": [
        "wendy = np.array([1, 1, 2, 3, 5, 8, 13])"
      ],
      "metadata": {
        "id": "TSCoGOzEPoGM"
      },
      "execution_count": null,
      "outputs": []
    },
    {
      "cell_type": "markdown",
      "source": [
        "Assignment means that I can subsequently use the variable name `wendy` to refer to or act on the entire array object I just created. For instance,"
      ],
      "metadata": {
        "id": "GiSVxc5wPr7L"
      }
    },
    {
      "cell_type": "code",
      "source": [
        "print(wendy)"
      ],
      "metadata": {
        "id": "KXzxcHCJPp89"
      },
      "execution_count": null,
      "outputs": []
    },
    {
      "cell_type": "markdown",
      "source": [
        "prints the array. The most important feature of arrays is the ability to perform mathematical operations on the **entire array at once**. Doing so makes for code that is easier to read and usually more efficient. For example, try some of the following for yourself:"
      ],
      "metadata": {
        "id": "ecSwUdGKPx4p"
      }
    },
    {
      "cell_type": "code",
      "source": [
        "print(wendy + 3)\n",
        "print(2 * wendy)"
      ],
      "metadata": {
        "id": "l66B7oBWP0YU"
      },
      "execution_count": null,
      "outputs": []
    },
    {
      "cell_type": "markdown",
      "source": [
        "I can create other arrays in a similar fashion and perform operations with\n",
        "multiple arrays:"
      ],
      "metadata": {
        "id": "N7_1Z1vqP35S"
      }
    },
    {
      "cell_type": "code",
      "source": [
        "winona = np.array([1, 1, 1, 1, 1, 1, 1])\n",
        "xena = np.array([1, 2, 3, 4, 5, 6, 7, 8])\n",
        "\n",
        "# we can also use Jupyter in a calculator-like manner with arrays\n",
        "wendy + winona"
      ],
      "metadata": {
        "id": "-mldMB02P6XB"
      },
      "execution_count": null,
      "outputs": []
    },
    {
      "cell_type": "markdown",
      "source": [
        "However, trying to perform operations on arrays that are not the same shape results in an exception (wendy has 7 elements whereas xena has 8):"
      ],
      "metadata": {
        "id": "1eijrH0RP9Gz"
      }
    },
    {
      "cell_type": "code",
      "source": [
        "wendy + xena"
      ],
      "metadata": {
        "id": "fcfWIdL3P9_g"
      },
      "execution_count": null,
      "outputs": []
    },
    {
      "cell_type": "markdown",
      "source": [
        "You can access specific elements of an array via *indexing*. Here are some examples:"
      ],
      "metadata": {
        "id": "D09hy0toQBC_"
      }
    },
    {
      "cell_type": "code",
      "source": [
        "print(wendy)\n",
        "print(wendy[0]) # indices begin at 0\n",
        "print(wendy[2]) # therefore this is actually the 3rd element of the array"
      ],
      "metadata": {
        "id": "TD4dyvj-QClx"
      },
      "execution_count": null,
      "outputs": []
    },
    {
      "cell_type": "code",
      "source": [
        "print(wendy[0:5]) # a range of indices, doesn't include the endpoint wendy[5]"
      ],
      "metadata": {
        "id": "kIEiIGnnQELo"
      },
      "execution_count": null,
      "outputs": []
    },
    {
      "cell_type": "code",
      "source": [
        "print(wendy[-1]) # last element"
      ],
      "metadata": {
        "id": "Vg9w3nx7QFlp"
      },
      "execution_count": null,
      "outputs": []
    },
    {
      "cell_type": "markdown",
      "source": [
        "***Exercise 2***\n",
        "\n",
        "Using the array `wendy` defined above, calculate the following by performing mathematical operations on `wendy`:\n",
        "\n",
        "$$\\frac{\\textrm{wendy}^2 + 7}{\\textrm{sum of elements in wendy}}$$"
      ],
      "metadata": {
        "id": "GhrRztdbQM3F"
      }
    },
    {
      "cell_type": "markdown",
      "source": [
        "## Plotting\n",
        "\n",
        "We will now turn to making basic plots. We point out a few key features here, but there is much more you can learn from reading the [matplotlib documentation](http://matplotlib.org/api/pyplot_summary.html).\n",
        "\n",
        "Let's start off with an example."
      ],
      "metadata": {
        "id": "l-Tncxf3QQVX"
      }
    },
    {
      "cell_type": "code",
      "source": [
        "foo = np.array([0, 1, 2, 3, 4, 5])\n",
        "foo_times_two = 2. * foo\n",
        "\n",
        "plt.plot(foo, foo_times_two)"
      ],
      "metadata": {
        "id": "1IFiHHP9QUne"
      },
      "execution_count": null,
      "outputs": []
    },
    {
      "cell_type": "markdown",
      "source": [
        "The basic plotting command is `plt.plot()`. In the above example, there were two arguments to `plt.plot()`:\n",
        "\n",
        "* First argument: the variable to be plotted on the $x$ axis\n",
        "* Second argument: the variable to be plotted on the $y$ axis\n",
        "\n",
        "If no other arguments are given, the points are joined by continuous line segments. This may not always be desirable, and the behavior can be changed by an optional third argument:"
      ],
      "metadata": {
        "id": "slncTUl3QXZN"
      }
    },
    {
      "cell_type": "code",
      "source": [
        "plt.plot(foo, foo_times_two, 'bo')"
      ],
      "metadata": {
        "id": "XIbbgMRaQZFM"
      },
      "execution_count": null,
      "outputs": []
    },
    {
      "cell_type": "markdown",
      "source": [
        "Here, the third argument, the format string `'bo'`, results in blue circles. The 'b' stands for blue, and the 'o' gives circles.\n",
        "\n",
        "Other colors are available, including [g]reen, [r]ed, [c]yan, [y]ellow, [m]agenta, and blac[k].\n",
        "\n",
        "A full list of plotting markers is available [here](http://matplotlib.org/api/markers_api.html). Commonly used ones include `V`, `^`, `<`, `>` (triangles facing in different directions), `.` (small points), and `s` (squares).\n",
        "\n",
        "Try some formatting options of your own in the above plot!\n",
        "\n",
        "There are some other niceties that you might want to include. A few examples are illustrated in the cell below:"
      ],
      "metadata": {
        "id": "AAE1P-uzQbUr"
      }
    },
    {
      "cell_type": "code",
      "source": [
        "plt.figure(figsize=(8,6)) # make plots larger (nominal size in inches)\n",
        "# actual on-screen size may vary depending on your computer browser\n",
        "plt.plot(foo, foo_times_two, 'bo-') # include continuous lines between points\n",
        "plt.xlim((-1, 6)) # change x-axis limits\n",
        "plt.ylim((-2, 12)) # change y-axis limits\n",
        "plt.xlabel('String with some actual label') # label the x-axis\n",
        "plt.ylabel('Some other appropriate label', size=12) # label the y-axis\n",
        "# keyword argument above increases the font size to 12 pt\n",
        "plt.title('Give your plots better titles than this') # title"
      ],
      "metadata": {
        "id": "mDeX9efUQe1t"
      },
      "execution_count": null,
      "outputs": []
    },
    {
      "cell_type": "markdown",
      "source": [
        "Other types of plots are possible, including:\n",
        "\n",
        "* semilog plots (use `plt.semilogx` for logarithmic scaling on the $x$ axis and `plt.semilogy` for logarithmic scaling on the $y$ axis)\n",
        "* log-log plots (`plt.loglog`)\n",
        "\n",
        "Again, see the matplotlib documentation for the many other possibilities.\n",
        "\n",
        "Very often you'll want to plot some mathematical function (either a built-in function or one you've written) over some range of arguments. You might, for instance, want to generate an evenly spaced set of points between two values. There is a nice way to do this via the `np.linspace` function:"
      ],
      "metadata": {
        "id": "Ta64D57BQjnn"
      }
    },
    {
      "cell_type": "code",
      "source": [
        "# np.linspace takes 3 arguments: start, stop (inclusive), number of points\n",
        "np.linspace(1, 5, 10)"
      ],
      "metadata": {
        "id": "Y7I1TCLZQsSY"
      },
      "execution_count": null,
      "outputs": []
    },
    {
      "cell_type": "markdown",
      "source": [
        "There's another way to do this: the function np.arange:"
      ],
      "metadata": {
        "id": "eQalcsSjQuWz"
      }
    },
    {
      "cell_type": "code",
      "source": [
        "# np.arange takes 3 arguments: start, stop (not inclusive)\n",
        "# and an optional 3rd argument that is the step size.\n",
        "# If step size not included, default step size is 1\n",
        "np.arange(1, 5, 0.2)"
      ],
      "metadata": {
        "id": "ZmewQsyHQyoC"
      },
      "execution_count": null,
      "outputs": []
    },
    {
      "cell_type": "markdown",
      "source": [
        "***Exercise 3***\n",
        "\n",
        "Make a graph that plots the $\\textrm{sinc}$ function, defined such that\n",
        "\n",
        "$$\\textrm{sinc}\\, x = \\frac{\\sin x}{x} \\  \\ \\ \\ \\ (x\\ne 0) $$\n",
        "\n",
        "$$\\textrm{sinc}\\, x = 1 \\ \\ \\ \\ \\  (x = 0) $$\n",
        "\n",
        "(This function arises in the formal theory of diffraction by a rectangular slit.) Plot $\\textrm{sinc}\\,x$ for $x$ between -10 and 10.\n",
        "\n",
        "Hint: the $\\textrm{sinc}$ function has already been defined in numpy as `np.sinc`."
      ],
      "metadata": {
        "id": "cqJz-djSQ0rI"
      }
    }
  ]
}